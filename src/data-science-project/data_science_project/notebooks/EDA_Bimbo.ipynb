{
  "cells": [
    {
      "cell_type": "markdown",
      "metadata": {
        "colab_type": "text",
        "id": "view-in-github"
      },
      "source": [
        "<a href=\"https://colab.research.google.com/github/NicoG2023/Data_Science_Final_Project/blob/Predata/src/data-science-project/data_science_project/notebooks/EDA_Rain.ipynb\" target=\"_parent\"><img src=\"https://colab.research.google.com/assets/colab-badge.svg\" alt=\"Open In Colab\"/></a>"
      ]
    },
    {
      "cell_type": "markdown",
      "metadata": {
        "id": "-PhuzxGDPEXZ"
      },
      "source": [
        "# EDA \"Grupo Bimbo Inventory Demand\""
      ]
    },
    {
      "cell_type": "markdown",
      "metadata": {
        "id": "dIQTcBMFPEXj"
      },
      "source": [
        "### Introduction\n",
        "\n",
        "Grupo Bimbo, a leading multinational bakery company, faces a unique challenge in managing the inventory of its products. With a typical shelf life of just one week, the accuracy of daily inventory calculations is paramount. Currently, these calculations are performed by direct delivery sales employees who rely on their personal experiences to predict the forces of supply, demand, and consumer behavior at each store. The margin for error in this process is minimal. Underestimating demand results in empty shelves and lost sales, while overestimating demand leads to excess product returns and increased expenses.\n",
        "\n",
        "Grupo Bimbo aims to create a predictive model that can accurately forecast inventory needs based on historical data, thereby optimizing the supply chain and improving efficiency.\n"
      ]
    },
    {
      "cell_type": "markdown",
      "metadata": {
        "id": "oHvVr32yPEXm"
      },
      "source": [
        "## Libraries"
      ]
    },
    {
      "cell_type": "code",
      "execution_count": 1,
      "metadata": {
        "colab": {
          "base_uri": "https://localhost:8080/"
        },
        "collapsed": true,
        "id": "hCwTZNhrPEXm",
        "outputId": "d86636f4-a2d9-4686-c765-90d100005fa6"
      },
      "outputs": [],
      "source": [
        "# importing the basic libraries\n",
        "#!pip install ydata_profiling\n",
        "# !pip install catboost\n",
        "# !pip install lightgbm\n",
        "# !pip install xgboost\n",
        "# !pip install plotly\n",
        "# !pip install path\n",
        "from ydata_profiling import ProfileReport\n",
        "import pandas as pd\n",
        "import numpy as np\n",
        "import seaborn as sns\n",
        "import matplotlib.pyplot as plt\n",
        "# from sklearn.metrics import roc_auc_score, accuracy_score\n",
        "# from sklearn.preprocessing import LabelEncoder\n",
        "# from sklearn.metrics import accuracy_score\n",
        "# from sklearn.ensemble import RandomForestClassifier, GradientBoostingClassifier, AdaBoostClassifier\n",
        "# from sklearn.linear_model import LogisticRegression\n",
        "# from sklearn.svm import SVC\n",
        "# from sklearn.neighbors import KNeighborsClassifier\n",
        "# from sklearn.tree import DecisionTreeClassifier, ExtraTreeClassifier\n",
        "# from xgboost import XGBClassifier\n",
        "# from lightgbm import LGBMClassifier\n",
        "# from catboost import CatBoostClassifier\n",
        "# import path\n",
        "import os\n",
        "# import plotly.express as px\n",
        "import gc"
      ]
    },
    {
      "cell_type": "markdown",
      "metadata": {
        "id": "Y8-BRpWWPEXq"
      },
      "source": [
        "## Charge data"
      ]
    },
    {
      "cell_type": "code",
      "execution_count": 2,
      "metadata": {
        "id": "3cy1r5QSPEXr"
      },
      "outputs": [],
      "source": [
        "\n",
        "train_df = pd.read_csv(\"../Data/train/train.csv\",nrows=1000)\n",
        "client_df = pd.read_csv(\"../Data/cliente_tabla.csv\")\n",
        "products_df = pd.read_csv(\"../Data/producto_tabla.csv\")\n",
        "#test_df = pd.read_csv(\"../Data/test/test.csv\")\n",
        "town_state_df = pd.read_csv(\"../Data/town_state.csv\")"
      ]
    },
    {
      "cell_type": "code",
      "execution_count": null,
      "metadata": {
        "id": "-Uemom6AgrfQ"
      },
      "outputs": [],
      "source": [
        "# Inspect the data, with funcion\n",
        "\n",
        "def inspect_columns(df:pd.DataFrame, df_name:str)->None:\n",
        "    \"\"\"\n",
        "    A helper function that does a deep analisis about the columns in a dataframe\n",
        "    Inputs:\n",
        "     df(pd.Dataframe): the dataframe that will be inspected\n",
        "     df_name(str): the tittle that will be put in the output(print) of the function\n",
        "    Returns:\n",
        "     None\n",
        "    \"\"\"\n",
        "\n",
        "    total_rows = len(df)\n",
        "    result = pd.DataFrame({\n",
        "        'total_rows': [total_rows] * df.shape[1],\n",
        "        'rows_with_missing_values': df.isnull().sum(),\n",
        "        'unique': df.nunique() == total_rows,\n",
        "        'cardinality': df.nunique(),\n",
        "        'with_null': df.isna().any(),\n",
        "        'null_pct': round((df.isnull().sum() / total_rows) * 100, 2),\n",
        "        '1st_row': df.iloc[0],\n",
        "        'random_row': df.iloc[np.random.randint(low=0, high=total_rows)],\n",
        "        'last_row': df.iloc[-1],\n",
        "        'dtype': df.dtypes,\n",
        "    })\n",
        "\n",
        "    # Print the name of the dataframe\n",
        "    print(f\"\\n{'='*10} {df_name} {'='*10}\\n\")\n",
        "\n",
        "    # Print the head of the dataframe\n",
        "    print(\"First few rows of the dataframe:\\n\")\n",
        "    display(df.head())\n",
        "\n",
        "    # Print the resulting statistics\n",
        "    print(\"Detailed statistics:\\n\")\n",
        "    display(result)"
      ]
    },
    {
      "cell_type": "markdown",
      "metadata": {
        "id": "dV2MDNKqPEXt"
      },
      "source": [
        "## Understand the data\n",
        "\n",
        "We performed a preliminary exploration to understand the structure of the data."
      ]
    },
    {
      "cell_type": "code",
      "execution_count": null,
      "metadata": {
        "colab": {
          "base_uri": "https://localhost:8080/",
          "height": 1000
        },
        "id": "-_SdP2IOPEXu",
        "outputId": "1980567a-1756-4699-b77c-cb25b0621bda"
      },
      "outputs": [],
      "source": [
        "inspect_columns(train_df,\"Training Dataframe\")\n",
        "inspect_columns(client_df,\"Client Dataframe\")\n",
        "inspect_columns(products_df,\"Products Dataframe\")\n",
        "inspect_columns(test_df,\"Test Dataframe\")\n",
        "inspect_columns(town_state_df,\"Town and State Dataframe\")"
      ]
    },
    {
      "cell_type": "markdown",
      "metadata": {
        "id": "iy99vpHcPEXx"
      },
      "source": [
        "### Exploratory data analysis\n"
      ]
    },
    {
      "cell_type": "code",
      "execution_count": 3,
      "metadata": {
        "id": "0-uglQX_PEXy"
      },
      "outputs": [
        {
          "data": {
            "text/html": [
              "<div>\n",
              "<style scoped>\n",
              "    .dataframe tbody tr th:only-of-type {\n",
              "        vertical-align: middle;\n",
              "    }\n",
              "\n",
              "    .dataframe tbody tr th {\n",
              "        vertical-align: top;\n",
              "    }\n",
              "\n",
              "    .dataframe thead th {\n",
              "        text-align: right;\n",
              "    }\n",
              "</style>\n",
              "<table border=\"1\" class=\"dataframe\">\n",
              "  <thead>\n",
              "    <tr style=\"text-align: right;\">\n",
              "      <th></th>\n",
              "      <th>Semana</th>\n",
              "      <th>Agencia_ID</th>\n",
              "      <th>Canal_ID</th>\n",
              "      <th>Ruta_SAK</th>\n",
              "      <th>Cliente_ID</th>\n",
              "      <th>Producto_ID</th>\n",
              "      <th>Venta_uni_hoy</th>\n",
              "      <th>Venta_hoy</th>\n",
              "      <th>Dev_uni_proxima</th>\n",
              "      <th>Dev_proxima</th>\n",
              "      <th>Demanda_uni_equil</th>\n",
              "      <th>NombreCliente</th>\n",
              "      <th>NombreProducto</th>\n",
              "      <th>Town</th>\n",
              "      <th>State</th>\n",
              "    </tr>\n",
              "  </thead>\n",
              "  <tbody>\n",
              "    <tr>\n",
              "      <th>0</th>\n",
              "      <td>3</td>\n",
              "      <td>1110</td>\n",
              "      <td>7</td>\n",
              "      <td>3301</td>\n",
              "      <td>15766</td>\n",
              "      <td>1212</td>\n",
              "      <td>3</td>\n",
              "      <td>25.14</td>\n",
              "      <td>0</td>\n",
              "      <td>0.0</td>\n",
              "      <td>3</td>\n",
              "      <td>PUESTO DE PERIODICOS LAZARO</td>\n",
              "      <td>Roles Canela 2p 120g BIM 1212</td>\n",
              "      <td>2008 AG. LAGO FILT</td>\n",
              "      <td>MÉXICO, D.F.</td>\n",
              "    </tr>\n",
              "    <tr>\n",
              "      <th>1</th>\n",
              "      <td>3</td>\n",
              "      <td>1110</td>\n",
              "      <td>7</td>\n",
              "      <td>3301</td>\n",
              "      <td>15766</td>\n",
              "      <td>1216</td>\n",
              "      <td>4</td>\n",
              "      <td>33.52</td>\n",
              "      <td>0</td>\n",
              "      <td>0.0</td>\n",
              "      <td>4</td>\n",
              "      <td>PUESTO DE PERIODICOS LAZARO</td>\n",
              "      <td>Roles Glass 2p 135g BIM 1216</td>\n",
              "      <td>2008 AG. LAGO FILT</td>\n",
              "      <td>MÉXICO, D.F.</td>\n",
              "    </tr>\n",
              "    <tr>\n",
              "      <th>2</th>\n",
              "      <td>3</td>\n",
              "      <td>1110</td>\n",
              "      <td>7</td>\n",
              "      <td>3301</td>\n",
              "      <td>15766</td>\n",
              "      <td>1238</td>\n",
              "      <td>4</td>\n",
              "      <td>39.32</td>\n",
              "      <td>0</td>\n",
              "      <td>0.0</td>\n",
              "      <td>4</td>\n",
              "      <td>PUESTO DE PERIODICOS LAZARO</td>\n",
              "      <td>Panquecito Gota Choc 2p 140g BIM 1238</td>\n",
              "      <td>2008 AG. LAGO FILT</td>\n",
              "      <td>MÉXICO, D.F.</td>\n",
              "    </tr>\n",
              "    <tr>\n",
              "      <th>3</th>\n",
              "      <td>3</td>\n",
              "      <td>1110</td>\n",
              "      <td>7</td>\n",
              "      <td>3301</td>\n",
              "      <td>15766</td>\n",
              "      <td>1240</td>\n",
              "      <td>4</td>\n",
              "      <td>33.52</td>\n",
              "      <td>0</td>\n",
              "      <td>0.0</td>\n",
              "      <td>4</td>\n",
              "      <td>PUESTO DE PERIODICOS LAZARO</td>\n",
              "      <td>Mantecadas Vainilla 4p 125g BIM 1240</td>\n",
              "      <td>2008 AG. LAGO FILT</td>\n",
              "      <td>MÉXICO, D.F.</td>\n",
              "    </tr>\n",
              "    <tr>\n",
              "      <th>4</th>\n",
              "      <td>3</td>\n",
              "      <td>1110</td>\n",
              "      <td>7</td>\n",
              "      <td>3301</td>\n",
              "      <td>15766</td>\n",
              "      <td>1242</td>\n",
              "      <td>3</td>\n",
              "      <td>22.92</td>\n",
              "      <td>0</td>\n",
              "      <td>0.0</td>\n",
              "      <td>3</td>\n",
              "      <td>PUESTO DE PERIODICOS LAZARO</td>\n",
              "      <td>Donitas Espolvoreadas 6p 105g BIM 1242</td>\n",
              "      <td>2008 AG. LAGO FILT</td>\n",
              "      <td>MÉXICO, D.F.</td>\n",
              "    </tr>\n",
              "  </tbody>\n",
              "</table>\n",
              "</div>"
            ],
            "text/plain": [
              "   Semana  Agencia_ID  Canal_ID  Ruta_SAK  Cliente_ID  Producto_ID  \\\n",
              "0       3        1110         7      3301       15766         1212   \n",
              "1       3        1110         7      3301       15766         1216   \n",
              "2       3        1110         7      3301       15766         1238   \n",
              "3       3        1110         7      3301       15766         1240   \n",
              "4       3        1110         7      3301       15766         1242   \n",
              "\n",
              "   Venta_uni_hoy  Venta_hoy  Dev_uni_proxima  Dev_proxima  Demanda_uni_equil  \\\n",
              "0              3      25.14                0          0.0                  3   \n",
              "1              4      33.52                0          0.0                  4   \n",
              "2              4      39.32                0          0.0                  4   \n",
              "3              4      33.52                0          0.0                  4   \n",
              "4              3      22.92                0          0.0                  3   \n",
              "\n",
              "                 NombreCliente                          NombreProducto  \\\n",
              "0  PUESTO DE PERIODICOS LAZARO           Roles Canela 2p 120g BIM 1212   \n",
              "1  PUESTO DE PERIODICOS LAZARO            Roles Glass 2p 135g BIM 1216   \n",
              "2  PUESTO DE PERIODICOS LAZARO   Panquecito Gota Choc 2p 140g BIM 1238   \n",
              "3  PUESTO DE PERIODICOS LAZARO    Mantecadas Vainilla 4p 125g BIM 1240   \n",
              "4  PUESTO DE PERIODICOS LAZARO  Donitas Espolvoreadas 6p 105g BIM 1242   \n",
              "\n",
              "                 Town         State  \n",
              "0  2008 AG. LAGO FILT  MÉXICO, D.F.  \n",
              "1  2008 AG. LAGO FILT  MÉXICO, D.F.  \n",
              "2  2008 AG. LAGO FILT  MÉXICO, D.F.  \n",
              "3  2008 AG. LAGO FILT  MÉXICO, D.F.  \n",
              "4  2008 AG. LAGO FILT  MÉXICO, D.F.  "
            ]
          },
          "execution_count": 3,
          "metadata": {},
          "output_type": "execute_result"
        }
      ],
      "source": [
        "# transform by merge with the data\n",
        "\n",
        "train_df = train_df.merge(client_df,on = \"Cliente_ID\",how=\"left\")\n",
        "train_df = train_df.merge(products_df,on = \"Producto_ID\",how=\"left\")\n",
        "train_df = train_df.merge(town_state_df,on = \"Agencia_ID\",how=\"left\")\n",
        "\n",
        "train_df.head()"
      ]
    },
    {
      "cell_type": "code",
      "execution_count": 4,
      "metadata": {
        "id": "nwrsHoYEgrfS"
      },
      "outputs": [
        {
          "data": {
            "text/html": [
              "<div>\n",
              "<style scoped>\n",
              "    .dataframe tbody tr th:only-of-type {\n",
              "        vertical-align: middle;\n",
              "    }\n",
              "\n",
              "    .dataframe tbody tr th {\n",
              "        vertical-align: top;\n",
              "    }\n",
              "\n",
              "    .dataframe thead th {\n",
              "        text-align: right;\n",
              "    }\n",
              "</style>\n",
              "<table border=\"1\" class=\"dataframe\">\n",
              "  <thead>\n",
              "    <tr style=\"text-align: right;\">\n",
              "      <th></th>\n",
              "      <th>Week</th>\n",
              "      <th>Sales_Depot_ID</th>\n",
              "      <th>Sales_Channel_ID</th>\n",
              "      <th>Route_ID</th>\n",
              "      <th>Client_ID</th>\n",
              "      <th>Product_ID</th>\n",
              "      <th>Sales_unit_this_week</th>\n",
              "      <th>Sales_this_week</th>\n",
              "      <th>Returns_unit_next_week</th>\n",
              "      <th>Returns_next_week</th>\n",
              "      <th>Adjusted_Demand</th>\n",
              "      <th>Client_name</th>\n",
              "      <th>Product_Name</th>\n",
              "      <th>Town</th>\n",
              "      <th>State</th>\n",
              "    </tr>\n",
              "  </thead>\n",
              "  <tbody>\n",
              "    <tr>\n",
              "      <th>0</th>\n",
              "      <td>3</td>\n",
              "      <td>1110</td>\n",
              "      <td>7</td>\n",
              "      <td>3301</td>\n",
              "      <td>15766</td>\n",
              "      <td>1212</td>\n",
              "      <td>3</td>\n",
              "      <td>25.14</td>\n",
              "      <td>0</td>\n",
              "      <td>0.0</td>\n",
              "      <td>3</td>\n",
              "      <td>PUESTO DE PERIODICOS LAZARO</td>\n",
              "      <td>Roles Canela 2p 120g BIM 1212</td>\n",
              "      <td>2008 AG. LAGO FILT</td>\n",
              "      <td>MÉXICO, D.F.</td>\n",
              "    </tr>\n",
              "    <tr>\n",
              "      <th>1</th>\n",
              "      <td>3</td>\n",
              "      <td>1110</td>\n",
              "      <td>7</td>\n",
              "      <td>3301</td>\n",
              "      <td>15766</td>\n",
              "      <td>1216</td>\n",
              "      <td>4</td>\n",
              "      <td>33.52</td>\n",
              "      <td>0</td>\n",
              "      <td>0.0</td>\n",
              "      <td>4</td>\n",
              "      <td>PUESTO DE PERIODICOS LAZARO</td>\n",
              "      <td>Roles Glass 2p 135g BIM 1216</td>\n",
              "      <td>2008 AG. LAGO FILT</td>\n",
              "      <td>MÉXICO, D.F.</td>\n",
              "    </tr>\n",
              "    <tr>\n",
              "      <th>2</th>\n",
              "      <td>3</td>\n",
              "      <td>1110</td>\n",
              "      <td>7</td>\n",
              "      <td>3301</td>\n",
              "      <td>15766</td>\n",
              "      <td>1238</td>\n",
              "      <td>4</td>\n",
              "      <td>39.32</td>\n",
              "      <td>0</td>\n",
              "      <td>0.0</td>\n",
              "      <td>4</td>\n",
              "      <td>PUESTO DE PERIODICOS LAZARO</td>\n",
              "      <td>Panquecito Gota Choc 2p 140g BIM 1238</td>\n",
              "      <td>2008 AG. LAGO FILT</td>\n",
              "      <td>MÉXICO, D.F.</td>\n",
              "    </tr>\n",
              "    <tr>\n",
              "      <th>3</th>\n",
              "      <td>3</td>\n",
              "      <td>1110</td>\n",
              "      <td>7</td>\n",
              "      <td>3301</td>\n",
              "      <td>15766</td>\n",
              "      <td>1240</td>\n",
              "      <td>4</td>\n",
              "      <td>33.52</td>\n",
              "      <td>0</td>\n",
              "      <td>0.0</td>\n",
              "      <td>4</td>\n",
              "      <td>PUESTO DE PERIODICOS LAZARO</td>\n",
              "      <td>Mantecadas Vainilla 4p 125g BIM 1240</td>\n",
              "      <td>2008 AG. LAGO FILT</td>\n",
              "      <td>MÉXICO, D.F.</td>\n",
              "    </tr>\n",
              "    <tr>\n",
              "      <th>4</th>\n",
              "      <td>3</td>\n",
              "      <td>1110</td>\n",
              "      <td>7</td>\n",
              "      <td>3301</td>\n",
              "      <td>15766</td>\n",
              "      <td>1242</td>\n",
              "      <td>3</td>\n",
              "      <td>22.92</td>\n",
              "      <td>0</td>\n",
              "      <td>0.0</td>\n",
              "      <td>3</td>\n",
              "      <td>PUESTO DE PERIODICOS LAZARO</td>\n",
              "      <td>Donitas Espolvoreadas 6p 105g BIM 1242</td>\n",
              "      <td>2008 AG. LAGO FILT</td>\n",
              "      <td>MÉXICO, D.F.</td>\n",
              "    </tr>\n",
              "  </tbody>\n",
              "</table>\n",
              "</div>"
            ],
            "text/plain": [
              "   Week  Sales_Depot_ID  Sales_Channel_ID  Route_ID  Client_ID  Product_ID  \\\n",
              "0     3            1110                 7      3301      15766        1212   \n",
              "1     3            1110                 7      3301      15766        1216   \n",
              "2     3            1110                 7      3301      15766        1238   \n",
              "3     3            1110                 7      3301      15766        1240   \n",
              "4     3            1110                 7      3301      15766        1242   \n",
              "\n",
              "   Sales_unit_this_week  Sales_this_week  Returns_unit_next_week  \\\n",
              "0                     3            25.14                       0   \n",
              "1                     4            33.52                       0   \n",
              "2                     4            39.32                       0   \n",
              "3                     4            33.52                       0   \n",
              "4                     3            22.92                       0   \n",
              "\n",
              "   Returns_next_week  Adjusted_Demand                  Client_name  \\\n",
              "0                0.0                3  PUESTO DE PERIODICOS LAZARO   \n",
              "1                0.0                4  PUESTO DE PERIODICOS LAZARO   \n",
              "2                0.0                4  PUESTO DE PERIODICOS LAZARO   \n",
              "3                0.0                4  PUESTO DE PERIODICOS LAZARO   \n",
              "4                0.0                3  PUESTO DE PERIODICOS LAZARO   \n",
              "\n",
              "                             Product_Name                Town         State  \n",
              "0           Roles Canela 2p 120g BIM 1212  2008 AG. LAGO FILT  MÉXICO, D.F.  \n",
              "1            Roles Glass 2p 135g BIM 1216  2008 AG. LAGO FILT  MÉXICO, D.F.  \n",
              "2   Panquecito Gota Choc 2p 140g BIM 1238  2008 AG. LAGO FILT  MÉXICO, D.F.  \n",
              "3    Mantecadas Vainilla 4p 125g BIM 1240  2008 AG. LAGO FILT  MÉXICO, D.F.  \n",
              "4  Donitas Espolvoreadas 6p 105g BIM 1242  2008 AG. LAGO FILT  MÉXICO, D.F.  "
            ]
          },
          "execution_count": 4,
          "metadata": {},
          "output_type": "execute_result"
        }
      ],
      "source": [
        "# translate the language used for the data\n",
        "\n",
        "train_df = train_df.rename({'Semana':'Week', 'Agencia_ID':'Sales_Depot_ID', 'Canal_ID':'Sales_Channel_ID', 'Ruta_SAK':'Route_ID', 'Cliente_ID':'Client_ID',\n",
        "       'Producto_ID':'Product_ID', 'Venta_uni_hoy':'Sales_unit_this_week', 'Venta_hoy':'Sales_this_week', 'Dev_uni_proxima':'Returns_unit_next_week',\n",
        "       'Dev_proxima':'Returns_next_week', 'Demanda_uni_equil':'Adjusted_Demand', 'NombreCliente':'Client_name', 'NombreProducto':'Product_Name',\n",
        "       'Town':'Town', 'State':'State'},axis=1)\n",
        "\n",
        "train_df.head()"
      ]
    },
    {
      "cell_type": "code",
      "execution_count": 5,
      "metadata": {},
      "outputs": [
        {
          "name": "stdout",
          "output_type": "stream",
          "text": [
            "<class 'pandas.core.frame.DataFrame'>\n",
            "RangeIndex: 1025 entries, 0 to 1024\n",
            "Data columns (total 15 columns):\n",
            " #   Column                  Non-Null Count  Dtype  \n",
            "---  ------                  --------------  -----  \n",
            " 0   Week                    1025 non-null   int8   \n",
            " 1   Sales_Depot_ID          1025 non-null   int16  \n",
            " 2   Sales_Channel_ID        1025 non-null   int8   \n",
            " 3   Route_ID                1025 non-null   int16  \n",
            " 4   Client_ID               1025 non-null   int32  \n",
            " 5   Product_ID              1025 non-null   int32  \n",
            " 6   Sales_unit_this_week    1025 non-null   int16  \n",
            " 7   Sales_this_week         1025 non-null   float64\n",
            " 8   Returns_unit_next_week  1025 non-null   int32  \n",
            " 9   Returns_next_week       1025 non-null   float64\n",
            " 10  Adjusted_Demand         1025 non-null   int32  \n",
            " 11  Client_name             1025 non-null   object \n",
            " 12  Product_Name            1025 non-null   object \n",
            " 13  Town                    1025 non-null   object \n",
            " 14  State                   1025 non-null   object \n",
            "dtypes: float64(2), int16(3), int32(4), int8(2), object(4)\n",
            "memory usage: 72.2+ KB\n",
            "None\n"
          ]
        }
      ],
      "source": [
        "train_df['Week'] = train_df['Week'].astype('int8')\n",
        "train_df['Sales_Depot_ID'] = train_df['Sales_Depot_ID'].astype('int16')\n",
        "train_df['Sales_Channel_ID'] = train_df['Sales_Channel_ID'].astype('int8')\n",
        "train_df['Route_ID'] = train_df['Route_ID'].astype('int16')\n",
        "train_df['Client_ID'] = train_df['Client_ID'].astype('int32')\n",
        "train_df['Product_ID'] = train_df['Product_ID'].astype('int32')\n",
        "train_df['Sales_unit_this_week'] = train_df['Sales_unit_this_week'].astype('int16')\n",
        "train_df['Returns_unit_next_week'] = train_df['Returns_unit_next_week'].astype('int32')\n",
        "train_df['Adjusted_Demand'] = train_df['Adjusted_Demand'].astype('int32')\n",
        "\n",
        "print(train_df.info())"
      ]
    },
    {
      "cell_type": "markdown",
      "metadata": {},
      "source": [
        "# Web Scraping\n",
        "\n",
        "According to the dataset, the data was taken in a timespan of 9 weeks. It's been decided to get the biweekly inflation and the consumer confidence index from Mexico. The info was taken from March 31st, 2016, until June 1st, 2016."
      ]
    },
    {
      "cell_type": "code",
      "execution_count": 6,
      "metadata": {},
      "outputs": [
        {
          "data": {
            "text/html": [
              "<div>\n",
              "<style scoped>\n",
              "    .dataframe tbody tr th:only-of-type {\n",
              "        vertical-align: middle;\n",
              "    }\n",
              "\n",
              "    .dataframe tbody tr th {\n",
              "        vertical-align: top;\n",
              "    }\n",
              "\n",
              "    .dataframe thead th {\n",
              "        text-align: right;\n",
              "    }\n",
              "</style>\n",
              "<table border=\"1\" class=\"dataframe\">\n",
              "  <thead>\n",
              "    <tr style=\"text-align: right;\">\n",
              "      <th></th>\n",
              "      <th>Fecha</th>\n",
              "      <th>Inflacion</th>\n",
              "    </tr>\n",
              "  </thead>\n",
              "  <tbody>\n",
              "    <tr>\n",
              "      <th>0</th>\n",
              "      <td>2016-06-01</td>\n",
              "      <td>0.02</td>\n",
              "    </tr>\n",
              "    <tr>\n",
              "      <th>1</th>\n",
              "      <td>2016-05-02</td>\n",
              "      <td>0.17</td>\n",
              "    </tr>\n",
              "    <tr>\n",
              "      <th>2</th>\n",
              "      <td>2016-05-01</td>\n",
              "      <td>-0.48</td>\n",
              "    </tr>\n",
              "    <tr>\n",
              "      <th>3</th>\n",
              "      <td>2016-04-02</td>\n",
              "      <td>-0.09</td>\n",
              "    </tr>\n",
              "    <tr>\n",
              "      <th>4</th>\n",
              "      <td>2016-04-01</td>\n",
              "      <td>-0.34</td>\n",
              "    </tr>\n",
              "  </tbody>\n",
              "</table>\n",
              "</div>"
            ],
            "text/plain": [
              "       Fecha Inflacion\n",
              "0 2016-06-01      0.02\n",
              "1 2016-05-02      0.17\n",
              "2 2016-05-01     -0.48\n",
              "3 2016-04-02     -0.09\n",
              "4 2016-04-01     -0.34"
            ]
          },
          "execution_count": 6,
          "metadata": {},
          "output_type": "execute_result"
        }
      ],
      "source": [
        "#Getting biweekly inflation\n",
        "import sys\n",
        "import requests\n",
        "from datetime import datetime\n",
        "\n",
        "api_key = '74bcad49-835f-fab1-c9f0-fdab92570186'\n",
        "\n",
        "api_url = f'https://www.inegi.org.mx/app/api/indicadores/desarrolladores/jsonxml/INDICATOR/628229/es/0700/false/BIE/2.0/{api_key}?type=json'\n",
        "\n",
        "response = requests.get(api_url)\n",
        "if response.status_code == 200:\n",
        "    inflation_data = response.json()\n",
        "else:\n",
        "    print('ERROR FAILED TO RETRIEVE DATA')\n",
        "    sys.exit()\n",
        "\n",
        "observations = inflation_data['Series'][0]['OBSERVATIONS']\n",
        "dates = []\n",
        "values = []\n",
        "for obs in observations:\n",
        "    dates.append(obs['TIME_PERIOD'])\n",
        "    values.append(obs['OBS_VALUE'])\n",
        "\n",
        "inflation_df = pd.DataFrame({\n",
        "    'Fecha': dates,\n",
        "    'Inflacion': values\n",
        "})\n",
        "\n",
        "inflation_df['Fecha'] = pd.to_datetime(inflation_df['Fecha'], format='%Y/%m/%d')\n",
        "start_date = datetime(2016, 3, 31)\n",
        "end_date = datetime(2016, 6, 1)\n",
        "\n",
        "filtered_inflation_df = inflation_df[(inflation_df['Fecha'] >= start_date) & (inflation_df['Fecha'] <= end_date)]\n",
        "filtered_inflation_df = filtered_inflation_df.reset_index(drop=True)\n",
        "filtered_inflation_df"
      ]
    },
    {
      "cell_type": "code",
      "execution_count": 7,
      "metadata": {},
      "outputs": [
        {
          "data": {
            "text/html": [
              "<div>\n",
              "<style scoped>\n",
              "    .dataframe tbody tr th:only-of-type {\n",
              "        vertical-align: middle;\n",
              "    }\n",
              "\n",
              "    .dataframe tbody tr th {\n",
              "        vertical-align: top;\n",
              "    }\n",
              "\n",
              "    .dataframe thead th {\n",
              "        text-align: right;\n",
              "    }\n",
              "</style>\n",
              "<table border=\"1\" class=\"dataframe\">\n",
              "  <thead>\n",
              "    <tr style=\"text-align: right;\">\n",
              "      <th></th>\n",
              "      <th>Fecha</th>\n",
              "      <th>Consumer_confidence</th>\n",
              "    </tr>\n",
              "  </thead>\n",
              "  <tbody>\n",
              "    <tr>\n",
              "      <th>0</th>\n",
              "      <td>2016-06-01</td>\n",
              "      <td>38.349095003102</td>\n",
              "    </tr>\n",
              "    <tr>\n",
              "      <th>1</th>\n",
              "      <td>2016-05-01</td>\n",
              "      <td>37.48480388305</td>\n",
              "    </tr>\n",
              "    <tr>\n",
              "      <th>2</th>\n",
              "      <td>2016-04-01</td>\n",
              "      <td>36.713858243741</td>\n",
              "    </tr>\n",
              "  </tbody>\n",
              "</table>\n",
              "</div>"
            ],
            "text/plain": [
              "       Fecha Consumer_confidence\n",
              "0 2016-06-01     38.349095003102\n",
              "1 2016-05-01      37.48480388305\n",
              "2 2016-04-01     36.713858243741"
            ]
          },
          "execution_count": 7,
          "metadata": {},
          "output_type": "execute_result"
        }
      ],
      "source": [
        "#Getting consumer confidence index\n",
        "api_key = '74bcad49-835f-fab1-c9f0-fdab92570186'\n",
        "api_url = f'https://www.inegi.org.mx/app/api/indicadores/desarrolladores/jsonxml/INDICATOR/454168/es/0700/false/BIE/2.0/{api_key}?type=json'\n",
        "\n",
        "response = requests.get(api_url)\n",
        "if response.status_code == 200:\n",
        "    confidence_data = response.json()\n",
        "else:\n",
        "    print('ERROR FAILED TO RETRIEVE DATA')\n",
        "    sys.exit()\n",
        "\n",
        "observations = confidence_data['Series'][0]['OBSERVATIONS']\n",
        "dates = []\n",
        "values = []\n",
        "\n",
        "for obs in observations:\n",
        "    dates.append(obs['TIME_PERIOD'])\n",
        "    values.append(obs['OBS_VALUE'])\n",
        "\n",
        "confidence_data = pd.DataFrame({\n",
        "    'Fecha': dates,\n",
        "    'Consumer_confidence': values\n",
        "})\n",
        "\n",
        "confidence_data['Fecha'] = pd.to_datetime(confidence_data['Fecha'], format='%Y/%m')\n",
        "start_date = datetime(2016, 3, 31)\n",
        "end_date = datetime(2016, 6, 1)\n",
        "\n",
        "filtered_confidence_df = confidence_data[(confidence_data['Fecha'] >= start_date) & (confidence_data['Fecha'] <= end_date)]\n",
        "filtered_confidence_df = filtered_confidence_df.reset_index(drop=True)\n",
        "filtered_confidence_df"
      ]
    },
    {
      "cell_type": "markdown",
      "metadata": {},
      "source": [
        "## Data Merging\n",
        "Having charged and understood the data now we proceed to merge it in order to create a consise and rich dataset for the model to be given "
      ]
    },
    {
      "cell_type": "code",
      "execution_count": 8,
      "metadata": {},
      "outputs": [
        {
          "name": "stdout",
          "output_type": "stream",
          "text": [
            "   Week      Fecha\n",
            "0     1 2016-04-01\n",
            "1     2 2016-04-01\n",
            "2     3 2016-04-02\n",
            "3     4 2016-04-02\n",
            "4     5 2016-05-01\n",
            "5     6 2016-05-01\n",
            "6     7 2016-05-02\n",
            "7     8 2016-05-02\n",
            "8     9 2016-06-01\n",
            "   Week      Fecha\n",
            "0     1 2016-04-01\n",
            "1     2 2016-05-01\n",
            "2     3 2016-05-01\n",
            "3     4 2016-05-01\n",
            "4     5 2016-05-01\n",
            "5     6 2016-06-01\n",
            "6     7 2016-06-01\n",
            "7     8 2016-06-01\n",
            "8     9 2016-06-01\n"
          ]
        }
      ],
      "source": [
        "# merging train_df, filtered_confidence_df, filtered_inflation_df\n",
        "weeks_to_inflation_dates = {\n",
        "    'Week': [1, 2, 3, 4, 5, 6, 7, 8, 9],\n",
        "    'Fecha': [\n",
        "        '2016-04-01','2016-04-01',\n",
        "        '2016-04-02','2016-04-02',\n",
        "        '2016-05-01','2016-05-01',\n",
        "        '2016-05-02','2016-05-02',\n",
        "        '2016-06-01'\n",
        "    ]\n",
        "}\n",
        "inflation_weeks_df = pd.DataFrame(weeks_to_inflation_dates)\n",
        "inflation_weeks_df['Fecha'] = pd.to_datetime(inflation_weeks_df['Fecha'])\n",
        "\n",
        "weeks_to_confidence_dates = {\n",
        "    'Week': [1, 2, 3, 4, 5, 6, 7, 8, 9],\n",
        "    'Fecha': [\n",
        "        '2016-04-01', '2016-05-01', '2016-05-01', '2016-05-01', '2016-05-01',\n",
        "        '2016-06-01', '2016-06-01', '2016-06-01', '2016-06-01'\n",
        "    ]\n",
        "}\n",
        "confidence_weeks_df = pd.DataFrame(weeks_to_confidence_dates)\n",
        "confidence_weeks_df['Fecha'] = pd.to_datetime(confidence_weeks_df['Fecha'])\n",
        "print(inflation_weeks_df)\n",
        "print(confidence_weeks_df)\n"
      ]
    },
    {
      "cell_type": "code",
      "execution_count": 9,
      "metadata": {},
      "outputs": [
        {
          "name": "stdout",
          "output_type": "stream",
          "text": [
            "   Week      Fecha Consumer_confidence\n",
            "0     1 2016-04-01     36.713858243741\n",
            "1     2 2016-05-01      37.48480388305\n",
            "2     3 2016-05-01      37.48480388305\n",
            "3     4 2016-05-01      37.48480388305\n",
            "4     5 2016-05-01      37.48480388305\n",
            "5     6 2016-06-01     38.349095003102\n",
            "6     7 2016-06-01     38.349095003102\n",
            "7     8 2016-06-01     38.349095003102\n",
            "8     9 2016-06-01     38.349095003102\n",
            "   Week      Fecha Inflacion\n",
            "0     1 2016-04-01     -0.34\n",
            "1     2 2016-04-01     -0.34\n",
            "2     3 2016-04-02     -0.09\n",
            "3     4 2016-04-02     -0.09\n",
            "4     5 2016-05-01     -0.48\n",
            "5     6 2016-05-01     -0.48\n",
            "6     7 2016-05-02      0.17\n",
            "7     8 2016-05-02      0.17\n",
            "8     9 2016-06-01      0.02\n"
          ]
        }
      ],
      "source": [
        "confidence_merged_df = pd.merge(confidence_weeks_df, filtered_confidence_df, on='Fecha', how='left')\n",
        "inflation_merged_df = pd.merge(inflation_weeks_df, filtered_inflation_df, on='Fecha', how='left')\n",
        "print(confidence_merged_df)\n",
        "print(inflation_merged_df)"
      ]
    },
    {
      "cell_type": "code",
      "execution_count": 10,
      "metadata": {},
      "outputs": [
        {
          "name": "stdout",
          "output_type": "stream",
          "text": [
            "   Week Consumer_confidence\n",
            "0     1     36.713858243741\n",
            "1     2      37.48480388305\n",
            "2     3      37.48480388305\n",
            "3     4      37.48480388305\n",
            "4     5      37.48480388305\n",
            "5     6     38.349095003102\n",
            "6     7     38.349095003102\n",
            "7     8     38.349095003102\n",
            "8     9     38.349095003102\n",
            "   Week Inflacion\n",
            "0     1     -0.34\n",
            "1     2     -0.34\n",
            "2     3     -0.09\n",
            "3     4     -0.09\n",
            "4     5     -0.48\n",
            "5     6     -0.48\n",
            "6     7      0.17\n",
            "7     8      0.17\n",
            "8     9      0.02\n"
          ]
        }
      ],
      "source": [
        "confidence_merged_df = confidence_merged_df.drop(columns=['Fecha'])\n",
        "inflation_merged_df = inflation_merged_df.drop(columns=['Fecha'])\n",
        "print(confidence_merged_df)\n",
        "print(inflation_merged_df)"
      ]
    },
    {
      "cell_type": "code",
      "execution_count": 11,
      "metadata": {},
      "outputs": [
        {
          "name": "stdout",
          "output_type": "stream",
          "text": [
            "<class 'pandas.core.frame.DataFrame'>\n",
            "RangeIndex: 1025 entries, 0 to 1024\n",
            "Data columns (total 17 columns):\n",
            " #   Column                  Non-Null Count  Dtype  \n",
            "---  ------                  --------------  -----  \n",
            " 0   Week                    1025 non-null   int8   \n",
            " 1   Sales_Depot_ID          1025 non-null   int16  \n",
            " 2   Sales_Channel_ID        1025 non-null   int8   \n",
            " 3   Route_ID                1025 non-null   int16  \n",
            " 4   Client_ID               1025 non-null   int32  \n",
            " 5   Product_ID              1025 non-null   int32  \n",
            " 6   Sales_unit_this_week    1025 non-null   int16  \n",
            " 7   Sales_this_week         1025 non-null   float64\n",
            " 8   Returns_unit_next_week  1025 non-null   int32  \n",
            " 9   Returns_next_week       1025 non-null   float64\n",
            " 10  Adjusted_Demand         1025 non-null   int32  \n",
            " 11  Client_name             1025 non-null   object \n",
            " 12  Product_Name            1025 non-null   object \n",
            " 13  Town                    1025 non-null   object \n",
            " 14  State                   1025 non-null   object \n",
            " 15  Consumer_confidence     1025 non-null   object \n",
            " 16  Inflacion               1025 non-null   object \n",
            "dtypes: float64(2), int16(3), int32(4), int8(2), object(6)\n",
            "memory usage: 88.2+ KB\n",
            "None\n"
          ]
        }
      ],
      "source": [
        "final_df = pd.merge(train_df, confidence_merged_df, on='Week', how='left')\n",
        "final_df = pd.merge(final_df, inflation_merged_df, on='Week', how='left')\n",
        "print(final_df.info())"
      ]
    },
    {
      "cell_type": "code",
      "execution_count": null,
      "metadata": {},
      "outputs": [],
      "source": [
        "final_df.head()"
      ]
    },
    {
      "cell_type": "markdown",
      "metadata": {},
      "source": [
        "### Feature Engineering"
      ]
    },
    {
      "cell_type": "code",
      "execution_count": 12,
      "metadata": {},
      "outputs": [
        {
          "name": "stdout",
          "output_type": "stream",
          "text": [
            "<class 'pandas.core.frame.DataFrame'>\n",
            "RangeIndex: 1025 entries, 0 to 1024\n",
            "Data columns (total 17 columns):\n",
            " #   Column                  Non-Null Count  Dtype  \n",
            "---  ------                  --------------  -----  \n",
            " 0   Week                    1025 non-null   int8   \n",
            " 1   Sales_Depot_ID          1025 non-null   int16  \n",
            " 2   Sales_Channel_ID        1025 non-null   int8   \n",
            " 3   Route_ID                1025 non-null   int16  \n",
            " 4   Client_ID               1025 non-null   int32  \n",
            " 5   Product_ID              1025 non-null   int32  \n",
            " 6   Sales_unit_this_week    1025 non-null   int16  \n",
            " 7   Sales_this_week         1025 non-null   float64\n",
            " 8   Returns_unit_next_week  1025 non-null   int32  \n",
            " 9   Returns_next_week       1025 non-null   float64\n",
            " 10  Adjusted_Demand         1025 non-null   int32  \n",
            " 11  Client_name             1025 non-null   object \n",
            " 12  Product_Name            1025 non-null   object \n",
            " 13  Town                    1025 non-null   object \n",
            " 14  State                   1025 non-null   object \n",
            " 15  Consumer_confidence     1025 non-null   float32\n",
            " 16  Inflacion               1025 non-null   float32\n",
            "dtypes: float32(2), float64(2), int16(3), int32(4), int8(2), object(4)\n",
            "memory usage: 80.2+ KB\n",
            "None\n"
          ]
        }
      ],
      "source": [
        "import gc\n",
        "del train_df\n",
        "del client_df\n",
        "del products_df\n",
        "#del test_df\n",
        "del town_state_df\n",
        "gc.collect()\n",
        "\n",
        "#get floats32 columns based on previus columns to feed the model \n",
        "final_df['Consumer_confidence'] = pd.to_numeric(final_df['Consumer_confidence'], errors='coerce')\n",
        "final_df['Inflacion'] = pd.to_numeric(final_df['Inflacion'], errors='coerce')\n",
        "final_df['Inflacion'] = final_df['Inflacion'].astype('float32')\n",
        "final_df['Consumer_confidence'] = final_df['Consumer_confidence'].astype('float32')\n",
        "\n",
        "print(final_df.info())"
      ]
    },
    {
      "cell_type": "code",
      "execution_count": null,
      "metadata": {},
      "outputs": [],
      "source": [
        "sample_df = final_df.sample(frac=0.2, random_state=1)\n",
        "profile_obj = ProfileReport(sample_df, title='Bimbo Inventory Demand Data Profiling Report')\n",
        "profile_obj.to_file('../Data/train_final_normal.html')"
      ]
    },
    {
      "cell_type": "code",
      "execution_count": 14,
      "metadata": {},
      "outputs": [
        {
          "name": "stdout",
          "output_type": "stream",
          "text": [
            "<class 'pandas.core.frame.DataFrame'>\n",
            "RangeIndex: 1025 entries, 0 to 1024\n",
            "Data columns (total 17 columns):\n",
            " #   Column                  Non-Null Count  Dtype  \n",
            "---  ------                  --------------  -----  \n",
            " 0   Week                    1025 non-null   int8   \n",
            " 1   Sales_Depot_ID          1025 non-null   int16  \n",
            " 2   Sales_Channel_ID        1025 non-null   int8   \n",
            " 3   Route_ID                1025 non-null   int16  \n",
            " 4   Client_ID               1025 non-null   int32  \n",
            " 5   Product_ID              1025 non-null   int32  \n",
            " 6   Sales_unit_this_week    1025 non-null   int16  \n",
            " 7   Sales_this_week         1025 non-null   float64\n",
            " 8   Returns_unit_next_week  1025 non-null   int32  \n",
            " 9   Returns_next_week       1025 non-null   float32\n",
            " 10  Adjusted_Demand         1025 non-null   int32  \n",
            " 11  Client_name             1025 non-null   object \n",
            " 12  Product_Name            1025 non-null   object \n",
            " 13  Town                    1025 non-null   object \n",
            " 14  State                   1025 non-null   object \n",
            " 15  Consumer_confidence     1025 non-null   float16\n",
            " 16  Inflacion               1025 non-null   float16\n",
            "dtypes: float16(2), float32(1), float64(1), int16(3), int32(4), int8(2), object(4)\n",
            "memory usage: 72.2+ KB\n",
            "None\n"
          ]
        }
      ],
      "source": [
        "#profile_obj\n",
        "final_df['Inflacion'] = final_df['Inflacion'].astype('float16')\n",
        "final_df['Consumer_confidence'] = final_df['Consumer_confidence'].astype('float16')\n",
        "final_df['Returns_next_week'] = final_df['Returns_next_week'].astype('float32')\n",
        "\n",
        "print(final_df.info())"
      ]
    },
    {
      "cell_type": "code",
      "execution_count": 15,
      "metadata": {},
      "outputs": [],
      "source": [
        "#remove Object(str) columns to feed the model\n",
        "final_df =final_df.drop(columns={\"Client_name\",\"Product_Name\",\"Town\",\"State\"})"
      ]
    },
    {
      "cell_type": "markdown",
      "metadata": {},
      "source": [
        "## Model Selection"
      ]
    },
    {
      "cell_type": "code",
      "execution_count": 16,
      "metadata": {},
      "outputs": [],
      "source": [
        "from sklearn.preprocessing import LabelEncoder\n",
        "from sklearn.model_selection import train_test_split\n",
        "from sklearn.preprocessing import StandardScaler\n",
        "\n",
        "#preprocess data -forecast \"Ajusted_Demand\" \n",
        "le = LabelEncoder()\n",
        "final_df[\"Adjusted_Demand\"] = le.fit_transform(final_df[\"Adjusted_Demand\"])\n",
        "\n",
        "#Selecting \"Adjusted_Demand\"\n",
        "columns_to_drop = [\"Adjusted_Demand\"]\n",
        "x = final_df.drop(columns_to_drop,axis=1) \n",
        "y = final_df[\"Adjusted_Demand\"]\n",
        "\n",
        "#scaling x\n",
        "sc = StandardScaler()\n",
        "x = sc.fit_transform(x)\n",
        "\n",
        "#generate train and test datasets\n",
        "x_final_df_train,x_final_df_test,y_final_df_train,y_final_df_test = train_test_split(x,y,test_size=0.3,random_state=42)\n"
      ]
    },
    {
      "cell_type": "markdown",
      "metadata": {},
      "source": [
        "### Test RandomForest"
      ]
    },
    {
      "cell_type": "code",
      "execution_count": 17,
      "metadata": {},
      "outputs": [
        {
          "name": "stderr",
          "output_type": "stream",
          "text": [
            "/home/giovanny/.pyenv/versions/data-science/lib/python3.12/site-packages/sklearn/model_selection/_split.py:776: UserWarning: The least populated class in y has only 1 members, which is less than n_splits=10.\n",
            "  warnings.warn(\n"
          ]
        },
        {
          "name": "stdout",
          "output_type": "stream",
          "text": [
            "Accuracy per fold:  [0.78640777 0.81553398 0.81553398 0.78640777 0.7961165  0.84313725\n",
            " 0.73529412 0.73529412 0.79411765 0.68627451]\n"
          ]
        }
      ],
      "source": [
        "from sklearn.model_selection import cross_val_score\n",
        "from sklearn.ensemble import RandomForestClassifier\n",
        "\n",
        "#creating Random forest Classifier\n",
        "cl_rf = RandomForestClassifier()\n",
        "#perform cross- validation\n",
        "scores_rf = cross_val_score(cl_rf,x,y,cv=10)\n",
        "print(\"Accuracy per fold: \",scores_rf)\n"
      ]
    },
    {
      "cell_type": "markdown",
      "metadata": {},
      "source": [
        "### Test XGB"
      ]
    },
    {
      "cell_type": "code",
      "execution_count": 19,
      "metadata": {},
      "outputs": [
        {
          "name": "stdout",
          "output_type": "stream",
          "text": [
            "Accuracy per fold:  [0.99828702 0.99865001 0.99757892 0.99764186 0.99879962 0.99881655\n",
            " 0.98488432 0.99855417 0.99791783 0.99884617]\n"
          ]
        }
      ],
      "source": [
        "import xgboost as xgb\n",
        "\n",
        "# Creating XGB Classifier\n",
        "cl_xgb =xgb.XGBRFRegressor()\n",
        "#perform cross-validation\n",
        "scores_xgb = cross_val_score(cl_xgb,x,y,cv=10)\n",
        "print(\"Accuracy per fold: \",scores_xgb)\n",
        "\n"
      ]
    },
    {
      "cell_type": "markdown",
      "metadata": {},
      "source": [
        "### Models Comparison"
      ]
    },
    {
      "cell_type": "code",
      "execution_count": 27,
      "metadata": {},
      "outputs": [
        {
          "data": {
            "text/plain": [
              "<matplotlib.legend.Legend at 0x775ec00c7ec0>"
            ]
          },
          "execution_count": 27,
          "metadata": {},
          "output_type": "execute_result"
        },
        {
          "data": {
            "image/png": "[encoded data removed]",
            "text/plain": [
              "<Figure size 1000x600 with 1 Axes>"
            ]
          },
          "metadata": {},
          "output_type": "display_data"
        }
      ],
      "source": [
        "#Metrics\n",
        "plt.figure(figsize=(10,6))\n",
        "plt.plot(scores_rf,marker=\"o\",linestyle=\"-\",color=\"red\",label=\"RandomForest\")\n",
        "plt.plot(scores_xgb,marker=\"o\",linestyle=\"-\",color=\"blue\",label=\"XGB\")\n",
        "plt.legend()\n"
      ]
    },
    {
      "cell_type": "markdown",
      "metadata": {},
      "source": [
        "### Model Training"
      ]
    },
    {
      "cell_type": "code",
      "execution_count": 32,
      "metadata": {},
      "outputs": [
        {
          "name": "stdout",
          "output_type": "stream",
          "text": [
            "mean squared error:  0.2797820534993266\n"
          ]
        }
      ],
      "source": [
        "from sklearn.metrics import mean_squared_error\n",
        "\n",
        "# We delete the RandomForest Classifier\n",
        "del cl_rf #comentar esta linea si ya se borro el objeto\n",
        "# Training XGB model\n",
        "cl_xgb.fit(x_final_df_train,y_final_df_train)\n",
        "#calculate predictions and evaluate performance\n",
        "y_hat_xgb = cl_xgb.predict(x_final_df_test)\n",
        "mse = mean_squared_error(y_final_df_test,y_hat_xgb)\n",
        "print(\"mean squared error: \",mse)"
      ]
    }
  ],
  "metadata": {
    "accelerator": "GPU",
    "colab": {
      "gpuType": "T4",
      "include_colab_link": true,
      "provenance": []
    },
    "kernelspec": {
      "display_name": "Python 3",
      "name": "python3"
    },
    "language_info": {
      "codemirror_mode": {
        "name": "ipython",
        "version": 3
      },
      "file_extension": ".py",
      "mimetype": "text/x-python",
      "name": "python",
      "nbconvert_exporter": "python",
      "pygments_lexer": "ipython3",
      "version": "3.12.3"
    }
  },
  "nbformat": 4,
  "nbformat_minor": 0
}
