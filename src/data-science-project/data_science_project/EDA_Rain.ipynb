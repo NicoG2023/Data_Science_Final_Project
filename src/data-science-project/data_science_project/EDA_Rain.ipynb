{
  "cells": [
    {
      "cell_type": "markdown",
      "metadata": {
        "id": "view-in-github",
        "colab_type": "text"
      },
      "source": [
        "<a href=\"https://colab.research.google.com/github/NicoG2023/Data_Science_Final_Project/blob/Predata/src/data-science-project/data_science_project/EDA_Rain.ipynb\" target=\"_parent\"><img src=\"https://colab.research.google.com/assets/colab-badge.svg\" alt=\"Open In Colab\"/></a>"
      ]
    },
    {
      "cell_type": "markdown",
      "metadata": {
        "id": "-PhuzxGDPEXZ"
      },
      "source": [
        "# EDA \"How much did it rain\"\n",
        "\n",
        "The data set consists of NEXRAD radar observations and MADIS data collected during the first 8 days of April to November 2013 and 2014 in corn-growing US Midwestern states. The data includes various measurements such as composite reflectivity, hydrometeor type, differential phase (Kdp), rainfall rates estimated by different algorithms, and the radar quality index, among others.\n"
      ]
    },
    {
      "cell_type": "markdown",
      "metadata": {
        "id": "dIQTcBMFPEXj"
      },
      "source": [
        "### Introduction\n",
        "\n",
        "This notebook focuses on exploratory data analysis of the “How much did it rain?” data set. The goal is to predict the cumulative amount of rainfall in an hour given polarimetric radar observations and derived amounts at a location. This analysis will help us better understand the characteristics of the data, identify possible outliers, missing values, and the distribution of the variables.\n"
      ]
    },
    {
      "cell_type": "markdown",
      "metadata": {
        "id": "LuTWE3xfPEXk"
      },
      "source": [
        "## Data set description\n",
        "\n",
        "The data set consists of NEXRAD radar observations and MADIS data collected during the first 8 days of April to November 2013 and 2014 in corn-growing US Midwestern states. The data includes various measurements such as composite reflectivity, hydrometeor type, differential phase (Kdp), rainfall rates estimated by different algorithms, and the radar quality index, among others."
      ]
    },
    {
      "cell_type": "markdown",
      "metadata": {
        "id": "oM5hrXOCPEXl"
      },
      "source": [
        "### Data set columns\n",
        "\n",
        "- `TimeToEnd`: Minutes remaining until the end of the radar observation time.\n",
        "- `DistanceToRadar`: Distance between the radar and the rain gauge.\n",
        "- `Composite`: Maximum reflectivity in the vertical volume above the rain gauge.\n",
        "- `HybridScan`, `HydrometeorType`, `Kdp`, `RR1`, `RR2`, `RR3`, `RadarQualityIndex`, `Reflectivity`, `ReflectivityQC`, `RhoHV`, `Velocity`, `Zdr`, ` LogWaterVolume`, `MassWeightedMean`, `MassWeightedSD`: Various measurements related to radar observations and rainfall rate estimates.\n",
        "- `Expected`: Actual amount of rain reported by the rain gauge for that time.\n"
      ]
    },
    {
      "cell_type": "markdown",
      "metadata": {
        "id": "oHvVr32yPEXm"
      },
      "source": [
        "## Libraries\n",
        "\n",
        "For this analysis, we will use standard data analysis and visualization libraries such as `numpy`, `pandas`, `seaborn`, and `matplotlib`, as well as `sklearn` and `xgboost` for preliminary modeling."
      ]
    },
    {
      "cell_type": "code",
      "execution_count": null,
      "metadata": {
        "id": "hCwTZNhrPEXm"
      },
      "outputs": [],
      "source": [
        "# importing the basic libraries\n",
        "import numpy as np\n",
        "import pandas as pd\n",
        "import seaborn as sns\n",
        "import matplotlib.pyplot as plt\n",
        "\n",
        "# IMPORTING other libraires which will be used\n",
        "# from sklearn.ensemble import RandomForestClassifier\n",
        "# from sklearn.linear_model import LogisticRegression\n",
        "# from xgboost import XGBClassifier"
      ]
    },
    {
      "cell_type": "markdown",
      "metadata": {
        "id": "Y8-BRpWWPEXq"
      },
      "source": [
        "## Charge data\n",
        "\n",
        "We load the datasets `train_2013.csv` and `test_2014.csv`, which contain the training and test observations respectively.\n"
      ]
    },
    {
      "cell_type": "code",
      "execution_count": null,
      "metadata": {
        "id": "3cy1r5QSPEXr",
        "outputId": "af27ecb7-a362-4215-bcb1-7a032462dd44"
      },
      "outputs": [
        {
          "name": "stdout",
          "output_type": "stream",
          "text": [
            "Training Size : (1126694,20)\n",
            "Test Size : (630452,19)\n"
          ]
        }
      ],
      "source": [
        "train=pd.read_csv(\"ruta\")\n",
        "test=pd.read_csv(\"ruta\")\n",
        "\n",
        "print(\"Training Size : (%d,%d)\"%train.shape)\n",
        "print(\"Test Size : (%d,%d)\"%test.shape)"
      ]
    },
    {
      "cell_type": "markdown",
      "metadata": {
        "id": "dV2MDNKqPEXt"
      },
      "source": [
        "## Understand the data\n",
        "\n",
        "We performed a preliminary exploration to understand the structure of the data, including the first rows of the data sets, descriptive statistics, and the sum of null values.\n"
      ]
    },
    {
      "cell_type": "code",
      "execution_count": null,
      "metadata": {
        "id": "-_SdP2IOPEXu",
        "outputId": "33d36b82-c809-403b-8690-a43778f0d73f"
      },
      "outputs": [
        {
          "name": "stdout",
          "output_type": "stream",
          "text": [
            "   Id                                          TimeToEnd  \\\n",
            "0   1              56.0 37.0 31.0 25.0 19.0 13.0 7.0 2.0   \n",
            "1   2                       58.0 48.0 38.0 29.0 19.0 9.0   \n",
            "2   3                                          59.0 20.0   \n",
            "3   4                       53.0 43.0 34.0 24.0 14.0 5.0   \n",
            "4   5  56.0 52.0 43.0 59.0 54.0 48.0 42.0 36.0 31.0 5...   \n",
            "\n",
            "                                     DistanceToRadar  \\\n",
            "0            30.0 30.0 30.0 30.0 30.0 30.0 30.0 30.0   \n",
            "1                      77.0 77.0 77.0 77.0 77.0 77.0   \n",
            "2                                          75.0 75.0   \n",
            "3                      21.0 21.0 21.0 21.0 21.0 21.0   \n",
            "4  69.0 69.0 69.0 83.0 83.0 83.0 83.0 83.0 83.0 5...   \n",
            "\n",
            "                                           Composite  \\\n",
            "0  -99900.0 -99900.0 -99900.0 -99900.0 -99900.0 -...   \n",
            "1  -99900.0 -99900.0 -99900.0 -99900.0 -99900.0 -...   \n",
            "2                                  -99900.0 -99900.0   \n",
            "3  -99900.0 -99900.0 -99900.0 -99900.0 -99900.0 -...   \n",
            "4  23.0 24.0 22.0 15.5 14.5 16.0 15.0 18.5 12.5 1...   \n",
            "\n",
            "                                          HybridScan  \\\n",
            "0  -99900.0 -99900.0 -99900.0 -99900.0 -99900.0 -...   \n",
            "1  -99900.0 -99900.0 -99900.0 -99900.0 -99900.0 -...   \n",
            "2                                  -99900.0 -99900.0   \n",
            "3  -99900.0 -99900.0 -99900.0 -99900.0 -99900.0 -...   \n",
            "4  13.5 15.5 19.0 -99900.0 -99900.0 -99900.0 -999...   \n",
            "\n",
            "                                     HydrometeorType  \\\n",
            "0                    8.0 8.0 8.0 8.0 8.0 8.0 8.0 8.0   \n",
            "1                            8.0 8.0 8.0 8.0 8.0 8.0   \n",
            "2                                            8.0 8.0   \n",
            "3                            8.0 8.0 8.0 8.0 8.0 8.0   \n",
            "4  9.0 9.0 9.0 8.0 8.0 8.0 8.0 9.0 9.0 9.0 9.0 9....   \n",
            "\n",
            "                                                 Kdp  \\\n",
            "0                    0.0 0.0 0.0 0.0 0.0 0.0 0.0 0.0   \n",
            "1                            0.0 0.0 0.0 0.0 0.0 0.0   \n",
            "2                                            0.0 0.0   \n",
            "3                            0.0 0.0 0.0 0.0 0.0 0.0   \n",
            "4  0.0 0.0 0.0 0.0 0.0 0.0 0.0 0.0 0.0 0.0 0.0 0....   \n",
            "\n",
            "                                                 RR1  \\\n",
            "0                    0.0 0.0 0.0 0.0 0.0 0.0 0.0 0.0   \n",
            "1                            0.0 0.0 0.0 0.0 0.0 0.0   \n",
            "2                                            0.0 0.0   \n",
            "3                            0.0 0.0 0.0 0.0 0.0 0.0   \n",
            "4  0.0 0.0 0.0 0.0 0.0 0.0 0.0 0.0 0.0 1.27899 0....   \n",
            "\n",
            "                                                 RR2  \\\n",
            "0  -99900.0 -99900.0 -99900.0 -99900.0 -99900.0 -...   \n",
            "1  -99900.0 -99900.0 -99900.0 -99900.0 -99900.0 -...   \n",
            "2                                  -99900.0 -99900.0   \n",
            "3  -99900.0 -99900.0 -99900.0 -99900.0 -99900.0 -...   \n",
            "4  -99900.0 -99900.0 -99900.0 -99900.0 -99900.0 -...   \n",
            "\n",
            "                                                 RR3  \\\n",
            "0  -99900.0 -99900.0 -99900.0 -99900.0 -99900.0 -...   \n",
            "1  -99900.0 -99900.0 -99900.0 -99900.0 -99900.0 -...   \n",
            "2                                  -99900.0 -99900.0   \n",
            "3  -99900.0 -99900.0 -99900.0 -99900.0 -99900.0 -...   \n",
            "4  -99900.0 -99900.0 -99900.0 -99900.0 -99900.0 -...   \n",
            "\n",
            "                                   RadarQualityIndex  \\\n",
            "0  0.006246 0.0200476 0.0113924 0.217157 0.028566...   \n",
            "1                999.0 999.0 999.0 999.0 999.0 999.0   \n",
            "2                                        999.0 999.0   \n",
            "3                            0.0 0.0 0.0 0.0 0.0 0.0   \n",
            "4  1.0 1.0 1.0 0.0 0.0 0.0 0.0 1.0 0.0 0.996433 0...   \n",
            "\n",
            "                                        Reflectivity  \\\n",
            "0                13.0 17.5 14.0 8.5 7.0 11.0 9.0 9.0   \n",
            "1                        15.0 18.5 10.5 3.0 0.5 -3.0   \n",
            "2                                            6.5 4.0   \n",
            "3                      11.0 14.0 12.0 11.0 13.0 15.5   \n",
            "4  14.0 14.0 17.0 24.5 23.5 21.5 25.0 16.0 21.0 1...   \n",
            "\n",
            "                                      ReflectivityQC  \\\n",
            "0  -99900.0 -99900.0 -99900.0 -99900.0 -99900.0 -...   \n",
            "1  -99900.0 -99900.0 -99900.0 -99900.0 -99900.0 -...   \n",
            "2                                  -99900.0 -99900.0   \n",
            "3  -99900.0 -99900.0 -99900.0 -99900.0 -99900.0 -...   \n",
            "4  14.0 14.0 17.0 -99900.0 -99900.0 -99900.0 -999...   \n",
            "\n",
            "                                               RhoHV  \\\n",
            "0  0.865 0.841667 0.765 0.985 0.768333 0.491667 0...   \n",
            "1  0.635 0.851667 0.891667 0.638333 0.791667 0.73...   \n",
            "2                                  0.998333 0.891667   \n",
            "3    0.688333 0.518333 0.708333 0.805 0.708333 0.555   \n",
            "4  1.01833 1.01167 0.991667 1.015 1.015 1.005 1.0...   \n",
            "\n",
            "                                            Velocity  \\\n",
            "0  -99901.0 -99901.0 -99901.0 -99901.0 -99901.0 -...   \n",
            "1                       -4.0 -3.0 -2.0 -0.5 -4.0 3.0   \n",
            "2                                      -99900.0 -3.5   \n",
            "3                   -7.0 -12.0 -11.5 -8.5 -8.0 -13.0   \n",
            "4  14.0 13.5 12.5 -13.5 -19.5 -16.0 -15.0 -14.0 -...   \n",
            "\n",
            "                                                 Zdr  \\\n",
            "0  7.9375 4.5 4.1875 5.5625 3.375 7.0625 5.3125 6...   \n",
            "1                 2.6875 3.0 2.375 6.25 3.125 6.0625   \n",
            "2                                       -6.5 -4.6875   \n",
            "3             -0.375 5.0625 1.1875 2.0 2.0625 0.3125   \n",
            "4  0.9375 -0.875 -0.75 0.0 0.0625 0.3125 0.5625 -...   \n",
            "\n",
            "                                      LogWaterVolume  \\\n",
            "0                    nan nan nan nan nan nan nan nan   \n",
            "1                            nan nan nan nan nan nan   \n",
            "2                                            nan nan   \n",
            "3                            nan nan nan nan nan nan   \n",
            "4  -13.4793885769 -12.1370512402 -11.6001776071 n...   \n",
            "\n",
            "                                    MassWeightedMean  \\\n",
            "0                    nan nan nan nan nan nan nan nan   \n",
            "1                            nan nan nan nan nan nan   \n",
            "2                                            nan nan   \n",
            "3                            nan nan nan nan nan nan   \n",
            "4  1.86413642918 1.27740873124 1.35497004174 nan ...   \n",
            "\n",
            "                                      MassWeightedSD  Expected  \n",
            "0                    nan nan nan nan nan nan nan nan       0.0  \n",
            "1                            nan nan nan nan nan nan       0.0  \n",
            "2                                            nan nan       0.0  \n",
            "3                            nan nan nan nan nan nan       0.0  \n",
            "4  0.755068594278 0.502681241559 0.514253049727 n...       0.0  \n",
            "                 Id      Expected\n",
            "count  1.126694e+06  1.126694e+06\n",
            "mean   5.634753e+05  4.238658e+00\n",
            "std    3.253159e+05  7.542596e+01\n",
            "min    1.000000e+00  0.000000e+00\n",
            "25%    2.817512e+05  0.000000e+00\n",
            "50%    5.634785e+05  0.000000e+00\n",
            "75%    8.452108e+05  0.000000e+00\n",
            "max    1.126934e+06  2.451940e+04\n",
            "Id                        0\n",
            "TimeToEnd                 0\n",
            "DistanceToRadar           0\n",
            "Composite                 0\n",
            "HybridScan                0\n",
            "HydrometeorType           0\n",
            "Kdp                       0\n",
            "RR1                       0\n",
            "RR2                       0\n",
            "RR3                       0\n",
            "RadarQualityIndex         0\n",
            "Reflectivity              0\n",
            "ReflectivityQC            0\n",
            "RhoHV                     0\n",
            "Velocity                  0\n",
            "Zdr                       0\n",
            "LogWaterVolume       151389\n",
            "MassWeightedMean     151389\n",
            "MassWeightedSD       151389\n",
            "Expected                  0\n",
            "dtype: int64\n"
          ]
        }
      ],
      "source": [
        "# Preliminary exploration\n",
        "\n",
        "print(train.describe())\n",
        "print(train.isnull().sum())\n",
        "train.head()\n"
      ]
    },
    {
      "cell_type": "markdown",
      "metadata": {
        "id": "iy99vpHcPEXx"
      },
      "source": [
        "### Cleaning and treatment of Data\n",
        "\n",
        "As seen, the data is distributed from We identified and addressed missing values, replaced specific missing data codes with \"NaN\" for uniform imputation, and considered removing columns with a high proportion of missing values. We also deal with compound columns, splitting them into multiple columns for easier analysis.\n"
      ]
    },
    {
      "cell_type": "code",
      "execution_count": null,
      "metadata": {
        "id": "0-uglQX_PEXy",
        "outputId": "0f4663ed-89c2-427e-9c4a-b72d58c6e4b0"
      },
      "outputs": [
        {
          "name": "stdout",
          "output_type": "stream",
          "text": [
            "Percentage of Missing Values:\n",
            " Id                    0.000000\n",
            "TimeToEnd             0.000000\n",
            "DistanceToRadar       0.000000\n",
            "Composite             0.000000\n",
            "HybridScan            0.000000\n",
            "HydrometeorType       0.000000\n",
            "Kdp                   0.000000\n",
            "RR1                   0.000000\n",
            "RR2                   0.000000\n",
            "RR3                   0.000000\n",
            "RadarQualityIndex     0.000000\n",
            "Reflectivity          0.000000\n",
            "ReflectivityQC        0.000000\n",
            "RhoHV                 0.000000\n",
            "Velocity              0.000000\n",
            "Zdr                   0.000000\n",
            "LogWaterVolume       13.436568\n",
            "MassWeightedMean     13.436568\n",
            "MassWeightedSD       13.436568\n",
            "Expected              0.000000\n",
            "dtype: float64\n"
          ]
        },
        {
          "name": "stderr",
          "output_type": "stream",
          "text": [
            "C:\\Users\\juan_\\AppData\\Local\\Temp\\ipykernel_7956\\161461304.py:22: FutureWarning: A value is trying to be set on a copy of a DataFrame or Series through chained assignment using an inplace method.\n",
            "The behavior will change in pandas 3.0. This inplace method will never work because the intermediate object on which we are setting values always behaves as a copy.\n",
            "\n",
            "For example, when doing 'df[col].method(value, inplace=True)', try using 'df.method({col: value}, inplace=True)' or df[col] = df[col].method(value) instead, to perform the operation inplace on the original object.\n",
            "\n",
            "\n",
            "  train[column].fillna(train[column].median(), inplace=True)\n",
            "C:\\Users\\juan_\\AppData\\Local\\Temp\\ipykernel_7956\\161461304.py:24: FutureWarning: A value is trying to be set on a copy of a DataFrame or Series through chained assignment using an inplace method.\n",
            "The behavior will change in pandas 3.0. This inplace method will never work because the intermediate object on which we are setting values always behaves as a copy.\n",
            "\n",
            "For example, when doing 'df[col].method(value, inplace=True)', try using 'df.method({col: value}, inplace=True)' or df[col] = df[col].method(value) instead, to perform the operation inplace on the original object.\n",
            "\n",
            "\n",
            "  train[column].fillna(train[column].mode()[0], inplace=True)\n",
            "C:\\Users\\juan_\\AppData\\Local\\Temp\\ipykernel_7956\\161461304.py:22: FutureWarning: A value is trying to be set on a copy of a DataFrame or Series through chained assignment using an inplace method.\n",
            "The behavior will change in pandas 3.0. This inplace method will never work because the intermediate object on which we are setting values always behaves as a copy.\n",
            "\n",
            "For example, when doing 'df[col].method(value, inplace=True)', try using 'df.method({col: value}, inplace=True)' or df[col] = df[col].method(value) instead, to perform the operation inplace on the original object.\n",
            "\n",
            "\n",
            "  train[column].fillna(train[column].median(), inplace=True)\n"
          ]
        },
        {
          "name": "stdout",
          "output_type": "stream",
          "text": [
            "<class 'pandas.core.frame.DataFrame'>\n",
            "RangeIndex: 1126694 entries, 0 to 1126693\n",
            "Data columns (total 20 columns):\n",
            " #   Column             Non-Null Count    Dtype  \n",
            "---  ------             --------------    -----  \n",
            " 0   Id                 1126694 non-null  float64\n",
            " 1   TimeToEnd          1126694 non-null  object \n",
            " 2   DistanceToRadar    1126694 non-null  object \n",
            " 3   Composite          1126694 non-null  object \n",
            " 4   HybridScan         1126694 non-null  object \n",
            " 5   HydrometeorType    1126694 non-null  object \n",
            " 6   Kdp                1126694 non-null  object \n",
            " 7   RR1                1126694 non-null  object \n",
            " 8   RR2                1126694 non-null  object \n",
            " 9   RR3                1126694 non-null  object \n",
            " 10  RadarQualityIndex  1126694 non-null  object \n",
            " 11  Reflectivity       1126694 non-null  object \n",
            " 12  ReflectivityQC     1126694 non-null  object \n",
            " 13  RhoHV              1126694 non-null  object \n",
            " 14  Velocity           1126694 non-null  object \n",
            " 15  Zdr                1126694 non-null  object \n",
            " 16  LogWaterVolume     1126694 non-null  object \n",
            " 17  MassWeightedMean   1126694 non-null  object \n",
            " 18  MassWeightedSD     1126694 non-null  object \n",
            " 19  Expected           1126694 non-null  float64\n",
            "dtypes: float64(2), object(18)\n",
            "memory usage: 171.9+ MB\n",
            "None\n"
          ]
        }
      ],
      "source": [
        "# Split columns of data\n",
        "\n",
        "for column in train.columns:\n",
        "  train_split = train[column].str.split(' ', expand=True)\n",
        "  # Rename new columns\n",
        "  train_split.columns = [f'{column}_{i+1}' for i in range(train_split.shape[1])]\n",
        "  # Combine new columns\n",
        "  train_final = train.drop(columns=[column]).join(train_split)\n",
        "\n",
        "# Replace specific missing value codes with NaN\n",
        "missing_value_codes = [-99000, -99901, -99903, 999.0]\n",
        "train_final.replace(missing_value_codes, np.nan, inplace=True)\n",
        "\n",
        "train_final = train_final.dropna()\n",
        "\n",
        "# Print the dataframe info to verify changes\n",
        "print(train_final.info())\n",
        "train_final.head()\n"
      ]
    },
    {
      "cell_type": "markdown",
      "metadata": {
        "id": "7u-aNjmqPEXw"
      },
      "source": [
        "### Data Graphics\n",
        "\n",
        "This visualization consists of four subplots, providing a comprehensive overview of the dataset's key features and the target variable:\n",
        "\n",
        "1. **Distribution of the Target Variable 'Expected'**: The first subplot displays the distribution of the 'Expected' rain accumulation. This histogram provides insight into the frequency of different rain accumulation levels, helping to understand the overall distribution of rainfall amounts reported by the rain gauges.\n",
        "\n",
        "2. **Boxplot of Distance to Radar**: The second subplot presents a boxplot for the 'DistanceToRadar' variable. This plot is useful for visualizing the distribution of distances between the radar and the rain gauges, including the median, quartiles, and potential outliers.\n",
        "\n",
        "3. **Count of Hydrometeor Types**: The third subplot is a countplot for the 'HydrometeorType' variable. This plot shows the frequency of each hydrometeor type detected by the radar, providing insight into the distribution of different types of precipitation particles.\n",
        "\n",
        "4. **Rain Accumulation vs. Reflectivity**: The fourth subplot is a scatter plot illustrating the relationship between 'Reflectivity' and the target variable 'Expected' rain accumulation. This plot can help identify patterns or correlations between the radar's reflectivity readings and the actual amount of rain measured by the gauges.\n",
        "\n",
        "Together, these subplots offer a multifaceted view of the dataset, highlighting important features, distributions, and relationships that can inform further analysis and modeling."
      ]
    },
    {
      "cell_type": "code",
      "execution_count": null,
      "metadata": {
        "id": "UWNrzMCTPEXx",
        "outputId": "5b4a97fa-bddf-405e-ef98-cc5e7ca661e4"
      },
      "outputs": [
        {
          "ename": "",
          "evalue": "",
          "output_type": "error",
          "traceback": [
            "\u001b[1;31mNo se pudo interrumpir el Kernel. \n",
            "\u001b[1;31mNo se ha podido iniciar el Kernel \".venv (Python 3.11.9)\" debido a un tiempo de espera para que se utilicen los puertos. \n",
            "\u001b[1;31mVer Jupyter <a href='command:jupyter.viewOutput'>log</a> para más detalles."
          ]
        }
      ],
      "source": [
        "\n",
        "# Set the overall figure size\n",
        "plt.figure(figsize=(20, 10))\n",
        "\n",
        "# Subplot 1: Distribution of the target variable 'Expected'\n",
        "plt.subplot(2, 2, 1)\n",
        "sns.histplot(train['Expected'], bins=70, kde=True)\n",
        "plt.title('Distribution of Rain Accumulation')\n",
        "plt.xlabel('Rain Accumulation (mm)')\n",
        "plt.ylabel('Frequency')\n",
        "\n",
        "# Subplot 2: Boxplot for 'DistanceToRadar'\n",
        "plt.subplot(2, 2, 2)\n",
        "sns.boxplot(y=train['DistanceToRadar'])\n",
        "plt.title('Boxplot of Distance to Radar')\n",
        "plt.ylabel('Distance (km)')\n",
        "\n",
        "# Subplot 3: Countplot for 'HydrometeorType'\n",
        "plt.subplot(2, 2, 3)\n",
        "sns.countplot(x=train['HydrometeorType'])\n",
        "plt.title('Count of Hydrometeor Types')\n",
        "plt.xlabel('Hydrometeor Type')\n",
        "plt.xticks(rotation=45)\n",
        "plt.ylabel('Count')\n",
        "\n",
        "# Subplot 4: Scatter plot showing the relationship between 'Reflectivity' and 'Expected'\n",
        "plt.subplot(2, 2, 4)\n",
        "sns.scatterplot(x=train['Reflectivity'], y=train['Expected'])\n",
        "plt.title('Rain Accumulation vs. Reflectivity')\n",
        "plt.xlabel('Reflectivity (dBZ)')\n",
        "plt.ylabel('Rain Accumulation (mm)')\n",
        "\n",
        "# Adjust layout for better readability\n",
        "plt.tight_layout()\n",
        "plt.show()"
      ]
    }
  ],
  "metadata": {
    "kernelspec": {
      "display_name": "Python 3",
      "name": "python3"
    },
    "language_info": {
      "codemirror_mode": {
        "name": "ipython",
        "version": 3
      },
      "file_extension": ".py",
      "mimetype": "text/x-python",
      "name": "python",
      "nbconvert_exporter": "python",
      "pygments_lexer": "ipython3",
      "version": "3.11.9"
    },
    "colab": {
      "provenance": [],
      "gpuType": "T4",
      "include_colab_link": true
    },
    "accelerator": "GPU"
  },
  "nbformat": 4,
  "nbformat_minor": 0
}